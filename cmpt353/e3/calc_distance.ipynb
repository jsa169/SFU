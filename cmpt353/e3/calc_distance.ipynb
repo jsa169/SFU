{
 "cells": [
  {
   "cell_type": "code",
   "execution_count": 1,
   "metadata": {},
   "outputs": [],
   "source": [
    "import numpy as np\n",
    "import pandas as pd\n",
    "import xml.etree.ElementTree as et\n",
    "from pykalman import KalmanFilter"
   ]
  },
  {
   "cell_type": "code",
   "execution_count": 2,
   "metadata": {},
   "outputs": [],
   "source": [
    "parse_result = et.parse('walk1.gpx')"
   ]
  },
  {
   "cell_type": "code",
   "execution_count": 3,
   "metadata": {},
   "outputs": [
    {
     "data": {
      "text/plain": [
       "<xml.etree.ElementTree.ElementTree at 0x122d4be50>"
      ]
     },
     "execution_count": 3,
     "metadata": {},
     "output_type": "execute_result"
    }
   ],
   "source": [
    "parse_result"
   ]
  },
  {
   "cell_type": "code",
   "execution_count": 4,
   "metadata": {},
   "outputs": [],
   "source": [
    "root = parse_result.getroot()"
   ]
  },
  {
   "cell_type": "code",
   "execution_count": 5,
   "metadata": {},
   "outputs": [
    {
     "data": {
      "text/plain": [
       "'{http://www.topografix.com/GPX/1/0}gpx'"
      ]
     },
     "execution_count": 5,
     "metadata": {},
     "output_type": "execute_result"
    }
   ],
   "source": [
    "root.tag"
   ]
  },
  {
   "cell_type": "code",
   "execution_count": 6,
   "metadata": {},
   "outputs": [
    {
     "data": {
      "text/plain": [
       "{'version': '1.0',\n",
       " 'creator': 'GPSLogger 86 - http://gpslogger.mendhak.com/',\n",
       " '{http://www.w3.org/2001/XMLSchema-instance}schemaLocation': 'http://www.topografix.com/GPX/1/0 http://www.topografix.com/GPX/1/0/gpx.xsd'}"
      ]
     },
     "execution_count": 6,
     "metadata": {},
     "output_type": "execute_result"
    }
   ],
   "source": [
    "root.attrib"
   ]
  },
  {
   "cell_type": "code",
   "execution_count": 7,
   "metadata": {},
   "outputs": [],
   "source": [
    "coord = []"
   ]
  },
  {
   "cell_type": "code",
   "execution_count": 8,
   "metadata": {},
   "outputs": [],
   "source": [
    "for i in root.iter('{http://www.topografix.com/GPX/1/0}trkpt'):\n",
    "    coord.append([i.attrib['lat'],i.attrib['lon']])"
   ]
  },
  {
   "cell_type": "code",
   "execution_count": 9,
   "metadata": {},
   "outputs": [
    {
     "data": {
      "text/html": [
       "<div>\n",
       "<style scoped>\n",
       "    .dataframe tbody tr th:only-of-type {\n",
       "        vertical-align: middle;\n",
       "    }\n",
       "\n",
       "    .dataframe tbody tr th {\n",
       "        vertical-align: top;\n",
       "    }\n",
       "\n",
       "    .dataframe thead th {\n",
       "        text-align: right;\n",
       "    }\n",
       "</style>\n",
       "<table border=\"1\" class=\"dataframe\">\n",
       "  <thead>\n",
       "    <tr style=\"text-align: right;\">\n",
       "      <th></th>\n",
       "      <th>lat</th>\n",
       "      <th>lon</th>\n",
       "    </tr>\n",
       "  </thead>\n",
       "  <tbody>\n",
       "    <tr>\n",
       "      <th>0</th>\n",
       "      <td>49.280158</td>\n",
       "      <td>-123.005283</td>\n",
       "    </tr>\n",
       "    <tr>\n",
       "      <th>1</th>\n",
       "      <td>49.280222</td>\n",
       "      <td>-123.005437</td>\n",
       "    </tr>\n",
       "    <tr>\n",
       "      <th>2</th>\n",
       "      <td>49.280231</td>\n",
       "      <td>-123.005601</td>\n",
       "    </tr>\n",
       "    <tr>\n",
       "      <th>3</th>\n",
       "      <td>49.280391</td>\n",
       "      <td>-123.006407</td>\n",
       "    </tr>\n",
       "    <tr>\n",
       "      <th>4</th>\n",
       "      <td>49.280211</td>\n",
       "      <td>-123.005965</td>\n",
       "    </tr>\n",
       "    <tr>\n",
       "      <th>...</th>\n",
       "      <td>...</td>\n",
       "      <td>...</td>\n",
       "    </tr>\n",
       "    <tr>\n",
       "      <th>116</th>\n",
       "      <td>49.275590</td>\n",
       "      <td>-123.017481</td>\n",
       "    </tr>\n",
       "    <tr>\n",
       "      <th>117</th>\n",
       "      <td>49.275652</td>\n",
       "      <td>-123.017862</td>\n",
       "    </tr>\n",
       "    <tr>\n",
       "      <th>118</th>\n",
       "      <td>49.275778</td>\n",
       "      <td>-123.017727</td>\n",
       "    </tr>\n",
       "    <tr>\n",
       "      <th>119</th>\n",
       "      <td>49.275721</td>\n",
       "      <td>-123.018331</td>\n",
       "    </tr>\n",
       "    <tr>\n",
       "      <th>120</th>\n",
       "      <td>49.275859</td>\n",
       "      <td>-123.018304</td>\n",
       "    </tr>\n",
       "  </tbody>\n",
       "</table>\n",
       "<p>121 rows × 2 columns</p>\n",
       "</div>"
      ],
      "text/plain": [
       "           lat         lon\n",
       "0    49.280158 -123.005283\n",
       "1    49.280222 -123.005437\n",
       "2    49.280231 -123.005601\n",
       "3    49.280391 -123.006407\n",
       "4    49.280211 -123.005965\n",
       "..         ...         ...\n",
       "116  49.275590 -123.017481\n",
       "117  49.275652 -123.017862\n",
       "118  49.275778 -123.017727\n",
       "119  49.275721 -123.018331\n",
       "120  49.275859 -123.018304\n",
       "\n",
       "[121 rows x 2 columns]"
      ]
     },
     "execution_count": 9,
     "metadata": {},
     "output_type": "execute_result"
    }
   ],
   "source": [
    "df = pd.DataFrame (coord, columns = ['lat','lon'], dtype=float)\n",
    "df"
   ]
  },
  {
   "cell_type": "code",
   "execution_count": 10,
   "metadata": {},
   "outputs": [
    {
     "name": "stdout",
     "output_type": "stream",
     "text": [
      "Unfiltered distance: 3186.44\n"
     ]
    }
   ],
   "source": [
    "def distance(df):\n",
    "    df1 = (df)\n",
    "    df2 = df.shift(-1,axis=0) \n",
    "    diff = np.deg2rad(df2-df1)  #calculate difference\n",
    "    r = 6371000\n",
    "    a = np.sin(diff['lat']/2) * np.sin(diff['lat']/2)  #formula from wikipedia\n",
    "    b = np.cos(np.deg2rad(df1['lat']))*np.cos(np.deg2rad(df2['lat']))*np.sin(diff['lon']/2)*np.sin(diff['lon']/2)\n",
    "    d = 2*r*np.arcsin(np.sqrt(a+b))\n",
    "    return d.sum()\n",
    "\n",
    "print('Unfiltered distance: %0.2f' % (distance(df)))"
   ]
  },
  {
   "cell_type": "code",
   "execution_count": 94,
   "metadata": {},
   "outputs": [],
   "source": [
    "def smooth(df):\n",
    "    initial_state = df.iloc[0]\n",
    "    observation_covariance = np.diag([15,20]) ** 2 # \n",
    "    transition_covariance = np.diag([10,9]) ** 2 \n",
    "    transition = [[1,0],[0,1]] \n",
    "    kf = KalmanFilter(\n",
    "    initial_state_mean=initial_state,\n",
    "    observation_covariance=observation_covariance,\n",
    "    transition_covariance=transition_covariance,\n",
    "    transition_matrices=transition\n",
    "    )\n",
    "    kalman_smoothed, _ = kf.smooth(df)\n",
    "    return pd.DataFrame(kalman_smoothed, columns=['lat', 'lon'])\n"
   ]
  },
  {
   "cell_type": "code",
   "execution_count": 95,
   "metadata": {},
   "outputs": [
    {
     "name": "stdout",
     "output_type": "stream",
     "text": [
      "Filtered distance: 1399.86\n"
     ]
    }
   ],
   "source": [
    "smoothed_points = pd.DataFrame(smooth(df))\n",
    "print('Filtered distance: %0.2f' % (distance(smoothed_points)))"
   ]
  },
  {
   "cell_type": "code",
   "execution_count": 96,
   "metadata": {},
   "outputs": [],
   "source": [
    "def output_gpx(points, output_filename):\n",
    "    \"\"\"\n",
    "    Output a GPX file with latitude and longitude from the points DataFrame.\n",
    "    \"\"\"\n",
    "    from xml.dom.minidom import getDOMImplementation\n",
    "    def append_trkpt(pt, trkseg, doc):\n",
    "        trkpt = doc.createElement('trkpt')\n",
    "        trkpt.setAttribute('lat', '%.8f' % (pt['lat']))\n",
    "        trkpt.setAttribute('lon', '%.8f' % (pt['lon']))\n",
    "        trkseg.appendChild(trkpt)\n",
    "    \n",
    "    doc = getDOMImplementation().createDocument(None, 'gpx', None)\n",
    "    trk = doc.createElement('trk')\n",
    "    doc.documentElement.appendChild(trk)\n",
    "    trkseg = doc.createElement('trkseg')\n",
    "    trk.appendChild(trkseg)\n",
    "    \n",
    "    points.apply(append_trkpt, axis=1, trkseg=trkseg, doc=doc)\n",
    "    \n",
    "    with open(output_filename, 'w') as fh:\n",
    "        doc.writexml(fh, indent=' ')"
   ]
  },
  {
   "cell_type": "code",
   "execution_count": 97,
   "metadata": {},
   "outputs": [],
   "source": [
    "output_gpx(smoothed_points, 'out.gpx')"
   ]
  },
  {
   "cell_type": "code",
   "execution_count": null,
   "metadata": {},
   "outputs": [],
   "source": []
  },
  {
   "cell_type": "code",
   "execution_count": null,
   "metadata": {},
   "outputs": [],
   "source": []
  },
  {
   "cell_type": "code",
   "execution_count": null,
   "metadata": {},
   "outputs": [],
   "source": []
  }
 ],
 "metadata": {
  "kernelspec": {
   "display_name": "Python 3",
   "language": "python",
   "name": "python3"
  },
  "language_info": {
   "codemirror_mode": {
    "name": "ipython",
    "version": 3
   },
   "file_extension": ".py",
   "mimetype": "text/x-python",
   "name": "python",
   "nbconvert_exporter": "python",
   "pygments_lexer": "ipython3",
   "version": "3.8.3"
  }
 },
 "nbformat": 4,
 "nbformat_minor": 4
}
