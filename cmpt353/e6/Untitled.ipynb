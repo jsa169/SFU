{
 "cells": [
  {
   "cell_type": "code",
   "execution_count": 1,
   "metadata": {},
   "outputs": [],
   "source": [
    "import numpy as np\n",
    "import pandas as pd\n",
    "from scipy import stats"
   ]
  },
  {
   "cell_type": "code",
   "execution_count": 2,
   "metadata": {},
   "outputs": [],
   "source": [
    "searches = pd.read_json('searches.json',orient='records',lines=True)"
   ]
  },
  {
   "cell_type": "code",
   "execution_count": 3,
   "metadata": {},
   "outputs": [],
   "source": [
    "searches['searched_at_least_once'] = (searches['search_count'] != 0)"
   ]
  },
  {
   "cell_type": "code",
   "execution_count": 4,
   "metadata": {},
   "outputs": [],
   "source": [
    "odd_treatment = searches[searches['uid']%2 == 1]\n",
    "even_control = searches[searches['uid']%2 == 0]\n",
    "\n",
    "contingency = ([odd_treatment['searched_at_least_once'].value_counts().loc[True],odd_treatment['searched_at_least_once'].value_counts().loc[False]],\n",
    "               [even_control['searched_at_least_once'].value_counts().loc[True],even_control['searched_at_least_once'].value_counts().loc[False]])\n",
    "_, more_users_p, _, _, = stats.chi2_contingency(contingency)\n",
    "\n",
    "more_searches_p = stats.mannwhitneyu(odd_treatment['search_count'], even_control['search_count'])"
   ]
  },
  {
   "cell_type": "code",
   "execution_count": 9,
   "metadata": {},
   "outputs": [],
   "source": [
    "instructors = searches[searches['is_instructor'] == True]"
   ]
  },
  {
   "cell_type": "code",
   "execution_count": null,
   "metadata": {},
   "outputs": [],
   "source": [
    "odd_treatment = instructors[instructors['uid']%2 == 1]\n",
    "even_control = instructors[instructors['uid']%2 == 0]\n",
    "\n",
    "contingency = ([odd_treatment['searched_at_least_once'].value_counts().loc[True],odd_treatment['searched_at_least_once'].value_counts().loc[False]],\n",
    "               [even_control['searched_at_least_once'].value_counts().loc[True],even_control['searched_at_least_once'].value_counts().loc[False]])\n",
    "_, more_instr_p, _, _, = stats.chi2_contingency(contingency)\n",
    "\n",
    "more_instr_searches_p = stats.mannwhitneyu(odd_treatment['search_count'], even_control['search_count'])"
   ]
  }
 ],
 "metadata": {
  "kernelspec": {
   "display_name": "Python 3",
   "language": "python",
   "name": "python3"
  },
  "language_info": {
   "codemirror_mode": {
    "name": "ipython",
    "version": 3
   },
   "file_extension": ".py",
   "mimetype": "text/x-python",
   "name": "python",
   "nbconvert_exporter": "python",
   "pygments_lexer": "ipython3",
   "version": "3.8.3"
  }
 },
 "nbformat": 4,
 "nbformat_minor": 4
}
