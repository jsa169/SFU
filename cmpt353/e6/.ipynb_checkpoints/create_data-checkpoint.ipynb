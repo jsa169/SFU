{
 "cells": [
  {
   "cell_type": "code",
   "execution_count": 1,
   "metadata": {},
   "outputs": [],
   "source": [
    "import time\n",
    "import numpy as np\n",
    "import pandas as pd\n",
    "from implementations import all_implementations"
   ]
  },
  {
   "cell_type": "code",
   "execution_count": 2,
   "metadata": {},
   "outputs": [
    {
     "data": {
      "text/plain": [
       "array([345, 440, 132, 399, 182, 395, 106,  30,  97,  25, 229, 176, 278,\n",
       "       449,  81,  37, 389, 397, 136, 148, 118, 159, 249, 419, 415, 499,\n",
       "        89,  72, 440,  54, 127,   1, 422,  61,  36, 459,  34, 471, 230,\n",
       "       354, 136, 171,  34,  97, 444, 174, 481, 491, 282,  37, 360, 244,\n",
       "       396, 310,  88, 438, 399, 152,  14, 162, 291, 346, 478,  85, 417,\n",
       "       198,  74,   9,  40, 280, 188, 379, 192,  91,  51, 345,  93, 358,\n",
       "       341, 138, 258,  77, 180, 478,  81, 104, 278, 142, 325, 164,  33,\n",
       "       215, 468,  78, 277, 137, 450, 178, 413, 451])"
      ]
     },
     "execution_count": 2,
     "metadata": {},
     "output_type": "execute_result"
    }
   ],
   "source": [
    "random_array = np.random.randint(0,500,size=(100))\n",
    "random_array"
   ]
  },
  {
   "cell_type": "code",
   "execution_count": null,
   "metadata": {},
   "outputs": [],
   "source": []
  },
  {
   "cell_type": "code",
   "execution_count": null,
   "metadata": {},
   "outputs": [],
   "source": []
  },
  {
   "cell_type": "code",
   "execution_count": 3,
   "metadata": {},
   "outputs": [],
   "source": [
    "for sort in all_implementations:\n",
    "    st = time.time()\n",
    "    res = sort(random_array)\n",
    "    en = time.time()"
   ]
  }
 ],
 "metadata": {
  "kernelspec": {
   "display_name": "Python 3",
   "language": "python",
   "name": "python3"
  },
  "language_info": {
   "codemirror_mode": {
    "name": "ipython",
    "version": 3
   },
   "file_extension": ".py",
   "mimetype": "text/x-python",
   "name": "python",
   "nbconvert_exporter": "python",
   "pygments_lexer": "ipython3",
   "version": "3.8.3"
  }
 },
 "nbformat": 4,
 "nbformat_minor": 4
}
