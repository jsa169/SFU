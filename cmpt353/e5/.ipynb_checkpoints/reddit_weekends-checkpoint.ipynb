{
 "cells": [
  {
   "cell_type": "code",
   "execution_count": 1,
   "metadata": {},
   "outputs": [],
   "source": [
    "import numpy as np\n",
    "import pandas as pd\n",
    "from scipy import stats\n",
    "from datetime import date\n",
    "import matplotlib.pyplot as plt\n"
   ]
  },
  {
   "cell_type": "code",
   "execution_count": 2,
   "metadata": {},
   "outputs": [],
   "source": [
    "counts = pd.read_json('reddit-counts.json.gz', lines=True) #import from file"
   ]
  },
  {
   "cell_type": "code",
   "execution_count": 3,
   "metadata": {},
   "outputs": [],
   "source": [
    "counts = counts[counts['date'].dt.year.isin([2012,2013])] #filter out years other than 2012/2013\n",
    "counts = counts[counts['subreddit'] == 'canada'] #filter out data other than canada"
   ]
  },
  {
   "cell_type": "code",
   "execution_count": 4,
   "metadata": {},
   "outputs": [],
   "source": [
    "counts['day_of_week'] = counts['date'].apply(date.weekday) #get dayofweek"
   ]
  },
  {
   "cell_type": "code",
   "execution_count": 5,
   "metadata": {},
   "outputs": [],
   "source": [
    "weekday = counts[counts['day_of_week'].isin([0,1,2,3,4])] #seperate weekday\n",
    "weekend = counts[counts['day_of_week'].isin([5,6])] #seperate weekend"
   ]
  },
  {
   "cell_type": "code",
   "execution_count": 6,
   "metadata": {},
   "outputs": [],
   "source": [
    "initial_ttest_p=stats.ttest_ind(weekday['comment_count'], weekend['comment_count']) #t-test"
   ]
  },
  {
   "cell_type": "code",
   "execution_count": 7,
   "metadata": {},
   "outputs": [],
   "source": [
    "initial_weekday_normality_p=stats.normaltest(weekday['comment_count']) #weekday normal test"
   ]
  },
  {
   "cell_type": "code",
   "execution_count": 8,
   "metadata": {},
   "outputs": [],
   "source": [
    "initial_weekend_normality_p=stats.normaltest(weekend['comment_count']) #weekend normal test"
   ]
  },
  {
   "cell_type": "code",
   "execution_count": 9,
   "metadata": {},
   "outputs": [],
   "source": [
    "initial_levene_p=stats.levene(weekday['comment_count'],weekend['comment_count']) #equal variance test"
   ]
  },
  {
   "cell_type": "code",
   "execution_count": 10,
   "metadata": {},
   "outputs": [
    {
     "data": {
      "text/plain": [
       "(array([10., 26., 37., 44., 31., 27., 16.,  8.,  6.,  4.]),\n",
       " array([ 619. ,  782.5,  946. , 1109.5, 1273. , 1436.5, 1600. , 1763.5,\n",
       "        1927. , 2090.5, 2254. ]),\n",
       " <a list of 10 Patch objects>)"
      ]
     },
     "execution_count": 10,
     "metadata": {},
     "output_type": "execute_result"
    },
    {
     "data": {
      "image/png": "[encoded data removed]",
      "text/plain": [
       "<Figure size 432x288 with 1 Axes>"
      ]
     },
     "metadata": {
      "needs_background": "light"
     },
     "output_type": "display_data"
    }
   ],
   "source": [
    "plt.hist(weekday['comment_count'],rwidth=0.5, color='green')\n",
    "plt.hist(weekend['comment_count'],rwidth=0.5, color='purple')"
   ]
  },
  {
   "cell_type": "code",
   "execution_count": 11,
   "metadata": {},
   "outputs": [
    {
     "name": "stderr",
     "output_type": "stream",
     "text": [
      "/home/jack/.local/lib/python3.6/site-packages/ipykernel_launcher.py:2: SettingWithCopyWarning: \n",
      "A value is trying to be set on a copy of a slice from a DataFrame.\n",
      "Try using .loc[row_indexer,col_indexer] = value instead\n",
      "\n",
      "See the caveats in the documentation: https://pandas.pydata.org/pandas-docs/stable/user_guide/indexing.html#returning-a-view-versus-a-copy\n",
      "  \n",
      "/home/jack/.local/lib/python3.6/site-packages/ipykernel_launcher.py:3: SettingWithCopyWarning: \n",
      "A value is trying to be set on a copy of a slice from a DataFrame.\n",
      "Try using .loc[row_indexer,col_indexer] = value instead\n",
      "\n",
      "See the caveats in the documentation: https://pandas.pydata.org/pandas-docs/stable/user_guide/indexing.html#returning-a-view-versus-a-copy\n",
      "  This is separate from the ipykernel package so we can avoid doing imports until\n"
     ]
    }
   ],
   "source": [
    "#transform data\n",
    "weekend['comment_count'] = np.sqrt(weekend['comment_count'])\n",
    "weekday['comment_count'] = np.sqrt(weekday['comment_count'])"
   ]
  },
  {
   "cell_type": "code",
   "execution_count": 12,
   "metadata": {},
   "outputs": [
    {
     "data": {
      "text/plain": [
       "(array([ 3., 16., 33., 36., 31., 40., 24., 14.,  5.,  7.]),\n",
       " array([24.87971061, 27.13937054, 29.39903046, 31.65869039, 33.91835032,\n",
       "        36.17801025, 38.43767017, 40.6973301 , 42.95699003, 45.21664995,\n",
       "        47.47630988]),\n",
       " <a list of 10 Patch objects>)"
      ]
     },
     "execution_count": 12,
     "metadata": {},
     "output_type": "execute_result"
    },
    {
     "data": {
      "image/png": "[encoded data removed]",
      "text/plain": [
       "<Figure size 432x288 with 1 Axes>"
      ]
     },
     "metadata": {
      "needs_background": "light"
     },
     "output_type": "display_data"
    }
   ],
   "source": [
    "plt.hist(weekday['comment_count'],rwidth=0.5, color='green')\n",
    "plt.hist(weekend['comment_count'],rwidth=0.5, color='purple')"
   ]
  },
  {
   "cell_type": "code",
   "execution_count": 13,
   "metadata": {},
   "outputs": [],
   "source": [
    "transformed_weekday_normality_p=stats.normaltest(weekday['comment_count'])"
   ]
  },
  {
   "cell_type": "code",
   "execution_count": 14,
   "metadata": {},
   "outputs": [],
   "source": [
    "transformed_weekend_normality_p=stats.normaltest(weekend['comment_count'])"
   ]
  },
  {
   "cell_type": "code",
   "execution_count": 15,
   "metadata": {},
   "outputs": [],
   "source": [
    "transformed_levene_p=stats.levene(weekday['comment_count'],weekend['comment_count'])"
   ]
  },
  {
   "cell_type": "code",
   "execution_count": 16,
   "metadata": {},
   "outputs": [
    {
     "name": "stderr",
     "output_type": "stream",
     "text": [
      "/home/jack/.local/lib/python3.6/site-packages/ipykernel_launcher.py:2: SettingWithCopyWarning: \n",
      "A value is trying to be set on a copy of a slice from a DataFrame.\n",
      "Try using .loc[row_indexer,col_indexer] = value instead\n",
      "\n",
      "See the caveats in the documentation: https://pandas.pydata.org/pandas-docs/stable/user_guide/indexing.html#returning-a-view-versus-a-copy\n",
      "  \n",
      "/home/jack/.local/lib/python3.6/site-packages/ipykernel_launcher.py:3: SettingWithCopyWarning: \n",
      "A value is trying to be set on a copy of a slice from a DataFrame.\n",
      "Try using .loc[row_indexer,col_indexer] = value instead\n",
      "\n",
      "See the caveats in the documentation: https://pandas.pydata.org/pandas-docs/stable/user_guide/indexing.html#returning-a-view-versus-a-copy\n",
      "  This is separate from the ipykernel package so we can avoid doing imports until\n"
     ]
    },
    {
     "data": {
      "text/html": [
       "<div>\n",
       "<style scoped>\n",
       "    .dataframe tbody tr th:only-of-type {\n",
       "        vertical-align: middle;\n",
       "    }\n",
       "\n",
       "    .dataframe tbody tr th {\n",
       "        vertical-align: top;\n",
       "    }\n",
       "\n",
       "    .dataframe thead th {\n",
       "        text-align: right;\n",
       "    }\n",
       "</style>\n",
       "<table border=\"1\" class=\"dataframe\">\n",
       "  <thead>\n",
       "    <tr style=\"text-align: right;\">\n",
       "      <th></th>\n",
       "      <th>date</th>\n",
       "      <th>subreddit</th>\n",
       "      <th>comment_count</th>\n",
       "      <th>day_of_week</th>\n",
       "      <th>week_number</th>\n",
       "    </tr>\n",
       "  </thead>\n",
       "  <tbody>\n",
       "    <tr>\n",
       "      <th>66</th>\n",
       "      <td>2013-03-14</td>\n",
       "      <td>canada</td>\n",
       "      <td>40.706265</td>\n",
       "      <td>3</td>\n",
       "      <td>(2013, 11, 4)</td>\n",
       "    </tr>\n",
       "    <tr>\n",
       "      <th>69</th>\n",
       "      <td>2013-07-08</td>\n",
       "      <td>canada</td>\n",
       "      <td>37.000000</td>\n",
       "      <td>0</td>\n",
       "      <td>(2013, 28, 1)</td>\n",
       "    </tr>\n",
       "    <tr>\n",
       "      <th>97</th>\n",
       "      <td>2012-07-04</td>\n",
       "      <td>canada</td>\n",
       "      <td>36.646964</td>\n",
       "      <td>2</td>\n",
       "      <td>(2012, 27, 3)</td>\n",
       "    </tr>\n",
       "    <tr>\n",
       "      <th>115</th>\n",
       "      <td>2013-03-11</td>\n",
       "      <td>canada</td>\n",
       "      <td>40.236799</td>\n",
       "      <td>0</td>\n",
       "      <td>(2013, 11, 1)</td>\n",
       "    </tr>\n",
       "    <tr>\n",
       "      <th>165</th>\n",
       "      <td>2013-09-11</td>\n",
       "      <td>canada</td>\n",
       "      <td>43.692105</td>\n",
       "      <td>2</td>\n",
       "      <td>(2013, 37, 3)</td>\n",
       "    </tr>\n",
       "    <tr>\n",
       "      <th>...</th>\n",
       "      <td>...</td>\n",
       "      <td>...</td>\n",
       "      <td>...</td>\n",
       "      <td>...</td>\n",
       "      <td>...</td>\n",
       "    </tr>\n",
       "    <tr>\n",
       "      <th>15357</th>\n",
       "      <td>2013-04-10</td>\n",
       "      <td>canada</td>\n",
       "      <td>44.955534</td>\n",
       "      <td>2</td>\n",
       "      <td>(2013, 15, 3)</td>\n",
       "    </tr>\n",
       "    <tr>\n",
       "      <th>15363</th>\n",
       "      <td>2013-03-19</td>\n",
       "      <td>canada</td>\n",
       "      <td>40.373258</td>\n",
       "      <td>1</td>\n",
       "      <td>(2013, 12, 2)</td>\n",
       "    </tr>\n",
       "    <tr>\n",
       "      <th>15389</th>\n",
       "      <td>2013-01-01</td>\n",
       "      <td>canada</td>\n",
       "      <td>45.967380</td>\n",
       "      <td>1</td>\n",
       "      <td>(2013, 1, 2)</td>\n",
       "    </tr>\n",
       "    <tr>\n",
       "      <th>15430</th>\n",
       "      <td>2012-10-19</td>\n",
       "      <td>canada</td>\n",
       "      <td>38.548671</td>\n",
       "      <td>4</td>\n",
       "      <td>(2012, 42, 5)</td>\n",
       "    </tr>\n",
       "    <tr>\n",
       "      <th>15469</th>\n",
       "      <td>2012-01-02</td>\n",
       "      <td>canada</td>\n",
       "      <td>33.570821</td>\n",
       "      <td>0</td>\n",
       "      <td>(2012, 1, 1)</td>\n",
       "    </tr>\n",
       "  </tbody>\n",
       "</table>\n",
       "<p>522 rows × 5 columns</p>\n",
       "</div>"
      ],
      "text/plain": [
       "            date subreddit  comment_count  day_of_week    week_number\n",
       "66    2013-03-14    canada      40.706265            3  (2013, 11, 4)\n",
       "69    2013-07-08    canada      37.000000            0  (2013, 28, 1)\n",
       "97    2012-07-04    canada      36.646964            2  (2012, 27, 3)\n",
       "115   2013-03-11    canada      40.236799            0  (2013, 11, 1)\n",
       "165   2013-09-11    canada      43.692105            2  (2013, 37, 3)\n",
       "...          ...       ...            ...          ...            ...\n",
       "15357 2013-04-10    canada      44.955534            2  (2013, 15, 3)\n",
       "15363 2013-03-19    canada      40.373258            1  (2013, 12, 2)\n",
       "15389 2013-01-01    canada      45.967380            1   (2013, 1, 2)\n",
       "15430 2012-10-19    canada      38.548671            4  (2012, 42, 5)\n",
       "15469 2012-01-02    canada      33.570821            0   (2012, 1, 1)\n",
       "\n",
       "[522 rows x 5 columns]"
      ]
     },
     "execution_count": 16,
     "metadata": {},
     "output_type": "execute_result"
    }
   ],
   "source": [
    "#Central Limit Theorem\n",
    "weekday = counts[counts['day_of_week'].isin([0,1,2,3,4])] \n",
    "weekend = counts[counts['day_of_week'].isin([5,6])] \n",
    "\n",
    "weekday['week_number'] = weekday['date'].apply(date.isocalendar)\n",
    "weekend['week_number'] = weekend['date'].apply(date.isocalendar)"
   ]
  },
  {
   "cell_type": "code",
   "execution_count": 17,
   "metadata": {},
   "outputs": [
    {
     "name": "stderr",
     "output_type": "stream",
     "text": [
      "/home/jack/.local/lib/python3.6/site-packages/ipykernel_launcher.py:5: SettingWithCopyWarning: \n",
      "A value is trying to be set on a copy of a slice from a DataFrame.\n",
      "Try using .loc[row_indexer,col_indexer] = value instead\n",
      "\n",
      "See the caveats in the documentation: https://pandas.pydata.org/pandas-docs/stable/user_guide/indexing.html#returning-a-view-versus-a-copy\n",
      "  \"\"\"\n",
      "/home/jack/.local/lib/python3.6/site-packages/ipykernel_launcher.py:6: SettingWithCopyWarning: \n",
      "A value is trying to be set on a copy of a slice from a DataFrame.\n",
      "Try using .loc[row_indexer,col_indexer] = value instead\n",
      "\n",
      "See the caveats in the documentation: https://pandas.pydata.org/pandas-docs/stable/user_guide/indexing.html#returning-a-view-versus-a-copy\n",
      "  \n"
     ]
    }
   ],
   "source": [
    "def trim(x):\n",
    "    x = x[0:2]\n",
    "    return x\n",
    "\n",
    "weekday['week_number'] = weekday['week_number'].apply(trim)\n",
    "weekend['week_number'] = weekend['week_number'].apply(trim)"
   ]
  },
  {
   "cell_type": "code",
   "execution_count": 18,
   "metadata": {},
   "outputs": [],
   "source": [
    "weekday = weekday.groupby('week_number').aggregate('mean')\n",
    "weekend = weekend.groupby('week_number').aggregate('mean')"
   ]
  },
  {
   "cell_type": "code",
   "execution_count": 19,
   "metadata": {},
   "outputs": [],
   "source": [
    "weekly_weekday_normality_p=stats.normaltest(weekday['comment_count'])"
   ]
  },
  {
   "cell_type": "code",
   "execution_count": 20,
   "metadata": {},
   "outputs": [],
   "source": [
    "weekly_weekend_normality_p=stats.normaltest(weekend['comment_count'])"
   ]
  },
  {
   "cell_type": "code",
   "execution_count": 21,
   "metadata": {},
   "outputs": [],
   "source": [
    "weekly_levene_p=stats.levene(weekday['comment_count'],weekend['comment_count'])"
   ]
  },
  {
   "cell_type": "code",
   "execution_count": 22,
   "metadata": {},
   "outputs": [],
   "source": [
    "weekly_ttest_p=stats.ttest_ind(weekday['comment_count'],weekend['comment_count'])"
   ]
  },
  {
   "cell_type": "code",
   "execution_count": 23,
   "metadata": {},
   "outputs": [],
   "source": [
    "#U-test\n",
    "weekday = counts[counts['day_of_week'].isin([0,1,2,3,4])] #seperate weekday\n",
    "weekend = counts[counts['day_of_week'].isin([5,6])] #seperate weekend"
   ]
  },
  {
   "cell_type": "code",
   "execution_count": 24,
   "metadata": {},
   "outputs": [],
   "source": [
    "utest_p=stats.mannwhitneyu(weekday['comment_count'],weekend['comment_count'],alternative='two-sided')"
   ]
  }
 ],
 "metadata": {
  "kernelspec": {
   "display_name": "Python 3",
   "language": "python",
   "name": "python3"
  },
  "language_info": {
   "codemirror_mode": {
    "name": "ipython",
    "version": 3
   },
   "file_extension": ".py",
   "mimetype": "text/x-python",
   "name": "python",
   "nbconvert_exporter": "python",
   "pygments_lexer": "ipython3",
   "version": "3.6.9"
  }
 },
 "nbformat": 4,
 "nbformat_minor": 4
}
