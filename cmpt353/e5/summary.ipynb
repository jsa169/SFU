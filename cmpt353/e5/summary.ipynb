{
 "cells": [
  {
   "cell_type": "code",
   "execution_count": 1,
   "metadata": {},
   "outputs": [],
   "source": [
    "import numpy as np\n",
    "import pandas as pd\n",
    "from scipy import stats"
   ]
  },
  {
   "cell_type": "code",
   "execution_count": null,
   "metadata": {},
   "outputs": [],
   "source": []
  },
  {
   "cell_type": "code",
   "execution_count": 2,
   "metadata": {},
   "outputs": [],
   "source": [
    "def stats_for_data(data):\n",
    "    print ('mean_x is: ', np.average(data['x']))\n",
    "    print ('mean_y is: ', np.average(data['y']))\n",
    "    print ('std_x is: ', np.std(data['x']))\n",
    "    print ('std_y is: ', np.std(data['y']))\n",
    "    print('range_x is: {', np.min(data['x']),',', np.max(data['x']), '}')\n",
    "    print('range_y is: {', np.min(data['y']),',', np.max(data['y']), '}')\n",
    "    r = stats.linregress(data['x'], data['y']).rvalue\n",
    "    print('r is: ', r)\n",
    "\n",
    "    if (r > 0 and r >= 0.3):\n",
    "        print (\"x and y are approximately positively correlated.\")\n",
    "    elif (r < 0 and r <= -0.3):\n",
    "        print (\"x and y are approximately negatively correlated.\")\n",
    "    else:\n",
    "        print(\"x and y are likely not correlated\")\n",
    "        \n",
    "    print(\"\\n\")"
   ]
  },
  {
   "cell_type": "code",
   "execution_count": 3,
   "metadata": {},
   "outputs": [
    {
     "name": "stdout",
     "output_type": "stream",
     "text": [
      "Assuming |r|>=0.3 means there is likely a correlation, |r|<0.3 means there is likely no correlation\n",
      "\n",
      "Data1:\n",
      "mean_x is:  8.71769618641382\n",
      "mean_y is:  12.522874034702584\n",
      "std_x is:  12.094586936598956\n",
      "std_y is:  6.606680770370137\n",
      "range_x is: { -22.635877790008944 , 35.23705548785129 }\n",
      "range_y is: { -2.5650878326932127 , 27.38415261152477 }\n",
      "r is:  0.9503256954375492\n",
      "x and y are approximately positively correlated.\n",
      "\n",
      "\n",
      "Data2:\n",
      "mean_x is:  -0.7107871267159573\n",
      "mean_y is:  -0.7489869764497991\n",
      "std_x is:  11.424031427941332\n",
      "std_y is:  6.226549791205469\n",
      "range_x is: { -33.2711130771198 , 27.6470003722073 }\n",
      "range_y is: { -18.621803760419066 , 14.147314992317481 }\n",
      "r is:  0.955153166575037\n",
      "x and y are approximately positively correlated.\n",
      "\n",
      "\n",
      "Data3:\n",
      "mean_x is:  0.9689074904200939\n",
      "mean_y is:  8.508535236641327\n",
      "std_x is:  2.2318288211623565\n",
      "std_y is:  1.1473837107336813\n",
      "range_x is: { -2.4490643296742807 , 4.51888491755363 }\n",
      "range_y is: { 6.641734490391762 , 10.551871022804317 }\n",
      "r is:  0.9819372646760665\n",
      "x and y are approximately positively correlated.\n",
      "\n",
      "\n",
      "Data4:\n",
      "mean_x is:  49.90508614830509\n",
      "mean_y is:  18.553836525423726\n",
      "std_x is:  28.38755430203193\n",
      "std_y is:  16.475637541936198\n",
      "range_x is: { 0.0 , 87.3767 }\n",
      "range_y is: { 0.0 , 44.56504 }\n",
      "r is:  -0.08119306735490815\n",
      "x and y are likely not correlated\n",
      "\n",
      "\n",
      "Data5:\n",
      "mean_x is:  49.90999357843095\n",
      "mean_y is:  18.555524937729086\n",
      "std_x is:  28.378981284825976\n",
      "std_y is:  16.470559057583237\n",
      "range_x is: { 4.337892453674525 , 91.0528633396976 }\n",
      "range_y is: { 0.05549750758115175 , 49.93419703633311 }\n",
      "r is:  -0.0882359898305888\n",
      "x and y are likely not correlated\n",
      "\n",
      "\n",
      "Data6:\n",
      "mean_x is:  7.21615517960992\n",
      "mean_y is:  7.602215028237295\n",
      "std_x is:  11.861841302343016\n",
      "std_y is:  11.70541274804915\n",
      "range_x is: { -24.33382075234097 , 35.402138910929 }\n",
      "range_y is: { -22.9563569970746 , 36.07987403078143 }\n",
      "r is:  0.9350685662094907\n",
      "x and y are approximately positively correlated.\n",
      "\n",
      "\n"
     ]
    }
   ],
   "source": [
    "data1 = pd.read_csv('data-1.csv')\n",
    "data2 = pd.read_csv('data-2.csv')\n",
    "data3 = pd.read_csv('data-3.csv')\n",
    "data4 = pd.read_csv('data-4.csv')\n",
    "data5 = pd.read_csv('data-5.csv')\n",
    "data6 = pd.read_csv('data-6.csv')\n",
    "print(\"Assuming |r|>=0.3 means there is likely a correlation, |r|<0.3 means there is likely no correlation\\n\")\n",
    "\n",
    "print(\"Data1:\")\n",
    "stats_for_data(data1)\n",
    "print(\"Data2:\")\n",
    "stats_for_data(data2)\n",
    "print(\"Data3:\")\n",
    "stats_for_data(data3)\n",
    "print(\"Data4:\")\n",
    "stats_for_data(data4)\n",
    "print(\"Data5:\")\n",
    "stats_for_data(data5)\n",
    "print(\"Data6:\")\n",
    "stats_for_data(data6)"
   ]
  },
  {
   "cell_type": "code",
   "execution_count": null,
   "metadata": {},
   "outputs": [],
   "source": []
  },
  {
   "cell_type": "code",
   "execution_count": null,
   "metadata": {},
   "outputs": [],
   "source": []
  },
  {
   "cell_type": "code",
   "execution_count": null,
   "metadata": {},
   "outputs": [],
   "source": []
  },
  {
   "cell_type": "code",
   "execution_count": null,
   "metadata": {},
   "outputs": [],
   "source": []
  }
 ],
 "metadata": {
  "kernelspec": {
   "display_name": "Python 3",
   "language": "python",
   "name": "python3"
  },
  "language_info": {
   "codemirror_mode": {
    "name": "ipython",
    "version": 3
   },
   "file_extension": ".py",
   "mimetype": "text/x-python",
   "name": "python",
   "nbconvert_exporter": "python",
   "pygments_lexer": "ipython3",
   "version": "3.6.9"
  }
 },
 "nbformat": 4,
 "nbformat_minor": 4
}
