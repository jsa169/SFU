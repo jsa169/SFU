{
 "cells": [
  {
   "cell_type": "code",
   "execution_count": 2,
   "metadata": {},
   "outputs": [],
   "source": [
    "import numpy as np"
   ]
  },
  {
   "cell_type": "code",
   "execution_count": 4,
   "metadata": {},
   "outputs": [],
   "source": [
    "data = np.load('monthdata.npz')\n",
    "totals = data['totals']\n",
    "counts = data['counts']"
   ]
  },
  {
   "cell_type": "code",
   "execution_count": 5,
   "metadata": {},
   "outputs": [
    {
     "data": {
      "text/plain": [
       "<numpy.lib.npyio.NpzFile at 0x7f52d80b58d0>"
      ]
     },
     "execution_count": 5,
     "metadata": {},
     "output_type": "execute_result"
    }
   ],
   "source": [
    "data"
   ]
  },
  {
   "cell_type": "code",
   "execution_count": 8,
   "metadata": {},
   "outputs": [
    {
     "data": {
      "text/plain": [
       "array([[1809, 1482, 2159,  374,  606,  428,  442,   68,  956, 1429, 1349,\n",
       "        1846],\n",
       "       [ 121,   22,   46,   40,  683,  616, 2061,  834,  253,  276,   27,\n",
       "         224],\n",
       "       [ 896, 1232,  992, 1106, 1236, 1015, 1264, 1096, 1026, 2422, 1184,\n",
       "        1099],\n",
       "       [1491, 1473, 1452, 1595, 1001,  725,  734,  445,  845, 2185, 1305,\n",
       "        1835],\n",
       "       [ 930,  561,  533,  204,  546,  748,  662,  274,  785, 1620, 1293,\n",
       "         295],\n",
       "       [ 183,  982,  621,  471,  667,  671,  525, 1599,  433, 1176,  594,\n",
       "         627],\n",
       "       [ 363,  491,  729,  681,  346,  269,  399,  667,  663,  452,  497,\n",
       "         821],\n",
       "       [1682, 1304, 1616,  242,  516,  582,  328,  138,  784, 2034, 2402,\n",
       "        1520],\n",
       "       [ 220,   90,   28,  120,   98,  306,  154,  280,  488,  158,  176,\n",
       "         116]], dtype=uint64)"
      ]
     },
     "execution_count": 8,
     "metadata": {},
     "output_type": "execute_result"
    }
   ],
   "source": [
    "totals"
   ]
  },
  {
   "cell_type": "code",
   "execution_count": 9,
   "metadata": {},
   "outputs": [
    {
     "data": {
      "text/plain": [
       "array([[30, 22, 30, 30, 21, 21, 20, 25, 20, 19, 17, 16],\n",
       "       [31, 29, 31, 30, 31, 30, 31, 30, 30, 30, 30, 30],\n",
       "       [31, 29, 31, 30, 30, 30, 31, 31, 30, 31, 30, 31],\n",
       "       [31, 29, 31, 30, 31, 30, 31, 31, 29, 30, 30, 31],\n",
       "       [31, 29, 31, 29, 31, 29, 30, 31, 30, 31, 30, 29],\n",
       "       [31, 29, 31, 30, 31, 30, 28, 31, 30, 30, 29, 31],\n",
       "       [31, 28, 31, 30, 31, 30, 31, 31, 30, 31, 29, 31],\n",
       "       [30, 28, 31, 30, 30, 29, 30, 31, 30, 31, 30, 30],\n",
       "       [31, 28, 31, 30, 31, 30, 31, 31, 30, 30, 30, 30]], dtype=uint64)"
      ]
     },
     "execution_count": 9,
     "metadata": {},
     "output_type": "execute_result"
    }
   ],
   "source": [
    "counts"
   ]
  },
  {
   "cell_type": "code",
   "execution_count": 122,
   "metadata": {},
   "outputs": [
    {
     "name": "stdout",
     "output_type": "stream",
     "text": [
      "Row with lowest total precipitation:\n",
      " 8\n"
     ]
    }
   ],
   "source": [
    "sum_col = np.sum(totals, axis=1, )\n",
    "lowest_total = np.argmin(sum_col)\n",
    "print('Row with lowest total precipitation:\\n',lowest_total)"
   ]
  },
  {
   "cell_type": "code",
   "execution_count": 119,
   "metadata": {},
   "outputs": [
    {
     "name": "stdout",
     "output_type": "stream",
     "text": [
      "Average precipitation in each month:\n",
      " [27.77978339 30.42629482 29.41007194 17.96654275 21.34456929 20.69498069\n",
      " 24.97718631 19.85661765 24.06563707 44.68441065 34.61568627 32.36679537]\n"
     ]
    }
   ],
   "source": [
    "avg_percep_month = np.sum(totals, axis = 0) / np.sum(counts, axis = 0)\n",
    "print('Average precipitation in each month:\\n',avg_percep_month)"
   ]
  },
  {
   "cell_type": "code",
   "execution_count": 100,
   "metadata": {},
   "outputs": [
    {
     "name": "stdout",
     "output_type": "stream",
     "text": [
      "Average precipitation in each city:\n",
      " [47.77859779 14.33333333 39.91232877 41.44505495 23.4099723  23.68144044\n",
      " 17.52197802 36.52222222  6.15426997]\n"
     ]
    }
   ],
   "source": [
    "avg_percep_city = np.sum(totals, axis = 1) / np.sum(counts, axis = 1)\n",
    "print('Average precipitation in each city:\\n',avg_percep_city)"
   ]
  },
  {
   "cell_type": "code",
   "execution_count": 113,
   "metadata": {},
   "outputs": [
    {
     "name": "stdout",
     "output_type": "stream",
     "text": [
      "Quarterly precipitation totals:\n",
      " [[5450 1408 1466 4624]\n",
      " [ 189 1339 3148  527]\n",
      " [3120 3357 3386 4705]\n",
      " [4416 3321 2024 5325]\n",
      " [2024 1498 1721 3208]\n",
      " [1786 1809 2557 2397]\n",
      " [1583 1296 1729 1770]\n",
      " [4602 1340 1250 5956]\n",
      " [ 338  524  922  450]]\n"
     ]
    }
   ],
   "source": [
    "rows = np.size(totals, 0)\n",
    "quarter = totals.reshape(rows*4,3)\n",
    "quarter = quarter.sum(1)\n",
    "quarter = quarter.reshape(rows, 4) \n",
    "print('Quarterly precipitation totals:\\n', quarter)"
   ]
  },
  {
   "cell_type": "code",
   "execution_count": null,
   "metadata": {},
   "outputs": [],
   "source": []
  }
 ],
 "metadata": {
  "kernelspec": {
   "display_name": "Python 3",
   "language": "python",
   "name": "python3"
  },
  "language_info": {
   "codemirror_mode": {
    "name": "ipython",
    "version": 3
   },
   "file_extension": ".py",
   "mimetype": "text/x-python",
   "name": "python",
   "nbconvert_exporter": "python",
   "pygments_lexer": "ipython3",
   "version": "3.6.9"
  }
 },
 "nbformat": 4,
 "nbformat_minor": 4
}
